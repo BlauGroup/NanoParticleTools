{
 "cells": [
  {
   "cell_type": "markdown",
   "metadata": {},
   "source": [
    "This notebook demonstrates how to use the pre-trained models to predict emission intensity on an arbitrary UCNP. "
   ]
  },
  {
   "cell_type": "code",
   "execution_count": 12,
   "metadata": {},
   "outputs": [],
   "source": [
    "from NanoParticleTools.machine_learning.data import SummedWavelengthRangeLabelProcessor\n",
    "from NanoParticleTools.machine_learning.models.hetero.intra_inter_model import HeteroDCVModel\n",
    "from NanoParticleTools.machine_learning.models.hetero.intra_inter_data import HeteroDCVFeatureProcessor\n",
    "from NanoParticleTools.inputs.nanoparticle import SphericalConstraint\n",
    "from NanoParticleTools.machine_learning.util.wandb import model_from_file"
   ]
  },
  {
   "cell_type": "markdown",
   "metadata": {},
   "source": [
    "First, define the feature processor. In this case, since we are using the HeteroDCVModel, we use the HeteroDCVFeatureProcessor. We also define the label processor, which sums the wavelengths over the UCNP emisison spectra. "
   ]
  },
  {
   "cell_type": "code",
   "execution_count": 7,
   "metadata": {},
   "outputs": [],
   "source": [
    "feature_processor_kwargs={'include_zeros': True}\n",
    "feature_processor = HeteroDCVFeatureProcessor(feature_processor_kwargs)\n",
    "\n",
    "label_processor_kwargs={\n",
    "        'spectrum_ranges': {\n",
    "            'uv': (300, 450)\n",
    "        },\n",
    "        'log_constant': 100\n",
    "    }\n",
    "label_processor = SummedWavelengthRangeLabelProcessor(label_processor_kwargs)"
   ]
  },
  {
   "cell_type": "markdown",
   "metadata": {},
   "source": [
    "Next, define an arbitrary nanoparticle. In this case it will be a core-shell nanoparticle with a 4 nm core and a 10 nm shell. The core will have Erbium doped at 0.01, while the shell will have Erbium and Ytterbium doping at 0.2 and 0.4. "
   ]
  },
  {
   "cell_type": "code",
   "execution_count": 5,
   "metadata": {},
   "outputs": [],
   "source": [
    "constraints = [SphericalConstraint(40), SphericalConstraint(100)]\n",
    "dopant_concentrations = [{'Er': 0.01}, {'Er': 0.2, 'Yb': 0.4}]"
   ]
  },
  {
   "cell_type": "markdown",
   "metadata": {},
   "source": [
    "From here, we can transform this definition of a UCNP into a readable data object for the model"
   ]
  },
  {
   "cell_type": "code",
   "execution_count": 16,
   "metadata": {},
   "outputs": [],
   "source": [
    "dopant_concentration, radii_without_zero = feature_processor.inputs_from_constraints_and_concentration(constraints, dopant_concentrations)\n",
    "input_data = feature_processor.graph_from_inputs(dopant_concentration, radii_without_zero)\n",
    "data = feature_processor.data_cls(input_data)"
   ]
  },
  {
   "cell_type": "markdown",
   "metadata": {},
   "source": [
    "Now, we can load a pre-trained model checkpoint, which can be downloaded from [Figshare](https://figshare.com/articles/dataset/Hetero-GNN_Checkpoints/27941694/1?file=50919813). "
   ]
  },
  {
   "cell_type": "code",
   "execution_count": 15,
   "metadata": {},
   "outputs": [
    {
     "name": "stderr",
     "output_type": "stream",
     "text": [
      "Lightning automatically upgraded your loaded checkpoint from v1.7.7 to v2.4.0. To apply the upgrade to your files permanently, run `python -m pytorch_lightning.utilities.upgrade_checkpoint C:\\Users\\ChemeGrad2021\\Desktop\\NanoParticleTools\\SUNSET-1\\model_1.ckpt`\n",
      "c:\\users\\chemegrad2021\\desktop\\nanoparticletools\\src\\NanoParticleTools\\machine_learning\\models\\hetero\\intra_inter_model.py:260: UserWarning: Cannot override n_input_nodes for this model. It is inferred fromthe embed_dim.\n",
      "  warnings.warn(\n"
     ]
    }
   ],
   "source": [
    "model_path = r\"C:\\Users\\ChemeGrad2021\\Desktop\\NanoParticleTools\\SUNSET-1\\model_1.ckpt\"\n",
    "pre_trained_model = model_from_file(model_path, HeteroDCVModel)"
   ]
  },
  {
   "cell_type": "markdown",
   "metadata": {},
   "source": [
    "Finally, we can pass the data into the model. To get emission intensity, we must undo the log and add back a constant, which were operations used in the label processor."
   ]
  },
  {
   "cell_type": "code",
   "execution_count": 31,
   "metadata": {},
   "outputs": [
    {
     "name": "stdout",
     "output_type": "stream",
     "text": [
      "The summed UV emission intensity of this arbitrary UCNP is: 122.25 cps\n"
     ]
    }
   ],
   "source": [
    "output = pre_trained_model.predict_step(data).item()\n",
    "intensity = 10**(output) + label_processor.log_constant\n",
    "print(f\"The summed UV emission intensity of this arbitrary UCNP is: {intensity:.2f} cps\")"
   ]
  }
 ],
 "metadata": {
  "kernelspec": {
   "display_name": "nanoparticle-env-311",
   "language": "python",
   "name": "python3"
  },
  "language_info": {
   "codemirror_mode": {
    "name": "ipython",
    "version": 3
   },
   "file_extension": ".py",
   "mimetype": "text/x-python",
   "name": "python",
   "nbconvert_exporter": "python",
   "pygments_lexer": "ipython3",
   "version": "3.11.10"
  }
 },
 "nbformat": 4,
 "nbformat_minor": 2
}
