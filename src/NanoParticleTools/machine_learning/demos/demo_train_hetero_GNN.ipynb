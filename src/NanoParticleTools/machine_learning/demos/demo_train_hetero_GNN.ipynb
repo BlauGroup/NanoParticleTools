{
 "cells": [
  {
   "cell_type": "markdown",
   "metadata": {},
   "source": [
    "This notebook demonstrates how to train a hetero GNN model on a pre-compiled UCNP dataset (SUNSET-1) to predict UCNP emisison intensity. "
   ]
  },
  {
   "cell_type": "code",
   "execution_count": 1,
   "metadata": {},
   "outputs": [],
   "source": [
    "from NanoParticleTools.machine_learning.models.hetero.intra_inter_model import HeteroDCVModel\n",
    "from NanoParticleTools.machine_learning.data.datamodule import NPMCDataModule\n",
    "from NanoParticleTools.machine_learning.data.utils import get_sunset_datasets\n",
    "from NanoParticleTools.machine_learning.data import SummedWavelengthRangeLabelProcessor\n",
    "from NanoParticleTools.machine_learning.models.hetero.intra_inter_data import HeteroDCVFeatureProcessor\n",
    "from NanoParticleTools.machine_learning.util.training import train_uv_model\n",
    "import warnings\n",
    "warnings.filterwarnings('ignore')"
   ]
  },
  {
   "cell_type": "markdown",
   "metadata": {},
   "source": [
    "First, download the SUNSET datasets from [Figshare](https://figshare.com/s/49222bae78f228363897). Then, we prepare a DataModule using the appropriate feature processor and label processor. In this case, since we are using the HeteroDCVModel, we use the HeteroDCVFeatureProcessor. We also define the label processor, which sums the wavelengths over the UCNP emisison spectra. "
   ]
  },
  {
   "cell_type": "code",
   "execution_count": 2,
   "metadata": {},
   "outputs": [],
   "source": [
    "train_dataset, val_dataset, iid_test_dataset, ood_test_dataset = get_sunset_datasets(\n",
    "    sunset_ids=1,\n",
    "    feature_processor_cls=HeteroDCVFeatureProcessor,\n",
    "    label_processor_cls=SummedWavelengthRangeLabelProcessor,\n",
    "    data_path=r\"C:\\Users\\ChemeGrad2021\\Desktop\\NanoParticleTools\",\n",
    "    feature_processor_kwargs={'include_zeros': True},\n",
    "    label_processor_kwargs={\n",
    "        'spectrum_ranges': {\n",
    "            'uv': (300, 450)\n",
    "        },\n",
    "        'log_constant': 100\n",
    "    })\n",
    "Hetero_data_module = NPMCDataModule(train_dataset, val_dataset, ood_test_dataset, iid_test_dataset, batch_size=16)"
   ]
  },
  {
   "cell_type": "markdown",
   "metadata": {},
   "source": [
    "Now, using train_uv_model, we can train a hetero GNN model. We use weights and biases (wandb) to track model performance and metrics during training, and to access the model checkpoint file after training is complete. In this demo, we only train for 5 epochs, but recommend training for at least 500 epochs in practice. "
   ]
  },
  {
   "cell_type": "code",
   "execution_count": 4,
   "metadata": {},
   "outputs": [
    {
     "name": "stderr",
     "output_type": "stream",
     "text": [
      "GPU available: False, used: False\n",
      "TPU available: False, using: 0 TPU cores\n",
      "HPU available: False, using: 0 HPUs\n",
      "\u001b[34m\u001b[1mwandb\u001b[0m: Using wandb-core as the SDK backend.  Please refer to https://wandb.me/wandb-core for more information.\n",
      "\u001b[34m\u001b[1mwandb\u001b[0m: Currently logged in as: \u001b[33mlattia\u001b[0m. Use \u001b[1m`wandb login --relogin`\u001b[0m to force relogin\n"
     ]
    },
    {
     "data": {
      "application/vnd.jupyter.widget-view+json": {
       "model_id": "51f590a144ff46388baf0860cbf6f6a3",
       "version_major": 2,
       "version_minor": 0
      },
      "text/plain": [
       "VBox(children=(Label(value='Waiting for wandb.init()...\\r'), FloatProgress(value=0.011277777777932999, max=1.0…"
      ]
     },
     "metadata": {},
     "output_type": "display_data"
    },
    {
     "data": {
      "text/html": [
       "Tracking run with wandb version 0.18.7"
      ],
      "text/plain": [
       "<IPython.core.display.HTML object>"
      ]
     },
     "metadata": {},
     "output_type": "display_data"
    },
    {
     "data": {
      "text/html": [
       "Run data is saved locally in <code>.\\wandb\\run-20250113_121728-nzgmjsoj</code>"
      ],
      "text/plain": [
       "<IPython.core.display.HTML object>"
      ]
     },
     "metadata": {},
     "output_type": "display_data"
    },
    {
     "data": {
      "text/html": [
       "Syncing run <strong><a href='https://wandb.ai/lattia/demo-model/runs/nzgmjsoj' target=\"_blank\">demo-run</a></strong> to <a href='https://wandb.ai/lattia/demo-model' target=\"_blank\">Weights & Biases</a> (<a href='https://wandb.me/developer-guide' target=\"_blank\">docs</a>)<br/>"
      ],
      "text/plain": [
       "<IPython.core.display.HTML object>"
      ]
     },
     "metadata": {},
     "output_type": "display_data"
    },
    {
     "data": {
      "text/html": [
       " View project at <a href='https://wandb.ai/lattia/demo-model' target=\"_blank\">https://wandb.ai/lattia/demo-model</a>"
      ],
      "text/plain": [
       "<IPython.core.display.HTML object>"
      ]
     },
     "metadata": {},
     "output_type": "display_data"
    },
    {
     "data": {
      "text/html": [
       " View run at <a href='https://wandb.ai/lattia/demo-model/runs/nzgmjsoj' target=\"_blank\">https://wandb.ai/lattia/demo-model/runs/nzgmjsoj</a>"
      ],
      "text/plain": [
       "<IPython.core.display.HTML object>"
      ]
     },
     "metadata": {},
     "output_type": "display_data"
    },
    {
     "name": "stderr",
     "output_type": "stream",
     "text": [
      "\n",
      "  | Name                  | Type                          | Params | Mode \n",
      "--------------------------------------------------------------------------------\n",
      "0 | representation_module | HeteroDCVRepresentationModule | 14.5 K | train\n",
      "1 | readout               | NonLinearMLP                  | 2.3 K  | train\n",
      "--------------------------------------------------------------------------------\n",
      "16.8 K    Trainable params\n",
      "0         Non-trainable params\n",
      "16.8 K    Total params\n",
      "0.067     Total estimated model params size (MB)\n",
      "144       Modules in train mode\n",
      "0         Modules in eval mode\n",
      "`Trainer.fit` stopped: `max_epochs=5` reached.\n"
     ]
    },
    {
     "data": {
      "text/html": [
       "\n",
       "    <style>\n",
       "        .wandb-row {\n",
       "            display: flex;\n",
       "            flex-direction: row;\n",
       "            flex-wrap: wrap;\n",
       "            justify-content: flex-start;\n",
       "            width: 100%;\n",
       "        }\n",
       "        .wandb-col {\n",
       "            display: flex;\n",
       "            flex-direction: column;\n",
       "            flex-basis: 100%;\n",
       "            flex: 1;\n",
       "            padding: 10px;\n",
       "        }\n",
       "    </style>\n",
       "<div class=\"wandb-row\"><div class=\"wandb-col\"><h3>Run history:</h3><br/><table class=\"wandb\"><tr><td>epoch</td><td>▁▁▁▁▁▁▃▃▃▃▃▃▃▅▅▅▅▅▅▅▆▆▆▆▆▆▆███████</td></tr><tr><td>iid_test_cos_sim</td><td>▁</td></tr><tr><td>iid_test_loss</td><td>▁</td></tr><tr><td>iid_test_mae</td><td>▁</td></tr><tr><td>iid_test_mse</td><td>▁</td></tr><tr><td>lr-Adam</td><td>▁▁▁▁▁▁▁▁▁▁▁▁▁▁▁▁▁▁▁▁▁▁▁▁▁▁▁▁▁</td></tr><tr><td>test_cos_sim</td><td>▁</td></tr><tr><td>test_loss</td><td>▁</td></tr><tr><td>test_mae</td><td>▁</td></tr><tr><td>test_mse</td><td>▁</td></tr><tr><td>train_eval_cos_sim</td><td>▁</td></tr><tr><td>train_eval_loss</td><td>▁</td></tr><tr><td>train_eval_mae</td><td>▁</td></tr><tr><td>train_eval_mse</td><td>▁</td></tr><tr><td>train_loss</td><td>▇▃█▄▅▃▃▆▃▄▂▃▂▂▂▂▃▁▄▂▁▃▁▂▁▂▁▁▂</td></tr><tr><td>trainer/global_step</td><td>▁▁▁▁▂▂▂▂▂▂▃▃▃▄▄▄▄▄▄▄▅▅▅▅▅▅▆▆▆▆▇▇▇▇▇█████</td></tr><tr><td>val_cos_sim</td><td>█████▁</td></tr><tr><td>val_loss</td><td>█▅▂▁▂▁</td></tr><tr><td>val_mae</td><td>█▆▃▁▃▁</td></tr><tr><td>val_mse</td><td>█▅▂▁▂▁</td></tr></table><br/></div><div class=\"wandb-col\"><h3>Run summary:</h3><br/><table class=\"wandb\"><tr><td>epoch</td><td>4</td></tr><tr><td>iid_test_cos_sim</td><td>1.00348</td></tr><tr><td>iid_test_loss</td><td>0.25954</td></tr><tr><td>iid_test_mae</td><td>0.4338</td></tr><tr><td>iid_test_mse</td><td>0.25954</td></tr><tr><td>lr-Adam</td><td>0.0001</td></tr><tr><td>test_cos_sim</td><td>1.00971</td></tr><tr><td>test_loss</td><td>0.30397</td></tr><tr><td>test_mae</td><td>0.46751</td></tr><tr><td>test_mse</td><td>0.30397</td></tr><tr><td>train_eval_cos_sim</td><td>1.0</td></tr><tr><td>train_eval_loss</td><td>0.24452</td></tr><tr><td>train_eval_mae</td><td>0.41856</td></tr><tr><td>train_eval_mse</td><td>0.24452</td></tr><tr><td>train_loss</td><td>0.30777</td></tr><tr><td>trainer/global_step</td><td>1479</td></tr><tr><td>val_cos_sim</td><td>0.99641</td></tr><tr><td>val_loss</td><td>0.24903</td></tr><tr><td>val_mae</td><td>0.42322</td></tr><tr><td>val_mse</td><td>0.24903</td></tr></table><br/></div></div>"
      ],
      "text/plain": [
       "<IPython.core.display.HTML object>"
      ]
     },
     "metadata": {},
     "output_type": "display_data"
    },
    {
     "data": {
      "text/html": [
       " View run <strong style=\"color:#cdcd00\">demo-run</strong> at: <a href='https://wandb.ai/lattia/demo-model/runs/nzgmjsoj' target=\"_blank\">https://wandb.ai/lattia/demo-model/runs/nzgmjsoj</a><br/> View project at: <a href='https://wandb.ai/lattia/demo-model' target=\"_blank\">https://wandb.ai/lattia/demo-model</a><br/>Synced 5 W&B file(s), 0 media file(s), 4 artifact file(s) and 0 other file(s)"
      ],
      "text/plain": [
       "<IPython.core.display.HTML object>"
      ]
     },
     "metadata": {},
     "output_type": "display_data"
    },
    {
     "data": {
      "text/html": [
       "Find logs at: <code>.\\wandb\\run-20250113_121728-nzgmjsoj\\logs</code>"
      ],
      "text/plain": [
       "<IPython.core.display.HTML object>"
      ]
     },
     "metadata": {},
     "output_type": "display_data"
    }
   ],
   "source": [
    "config = {\n",
    "    'n_dopants': 3,\n",
    "    'embed_dim': 16,\n",
    "    'n_message_passing': 4,\n",
    "    'learning_rate': 1e-3,\n",
    "    'l2_regularization_weight': 1e-5,\n",
    "    'interaction_embedding': True,\n",
    "}\n",
    "model = train_uv_model(config = config,\n",
    "                        model_cls=HeteroDCVModel, \n",
    "                        data_module=Hetero_data_module,\n",
    "                        num_epochs=5,\n",
    "                        early_stop = 'False',\n",
    "                        trainer_device_config = {'devices' :1\n",
    "                                                 },\n",
    "                        wandb_config= {'name': 'demo-run',\n",
    "                                       'project':'demo-model'\n",
    "                                       },\n",
    "                        lr_scheduler_kwargs={'patience': 1,\n",
    "                                             'factor': 0.85,\n",
    "                                             'warmup_epochs': 1\n",
    "                                             })\n"
   ]
  },
  {
   "cell_type": "markdown",
   "metadata": {},
   "source": [
    "Now we have a trained model to predict UCNP emission intensity! This training procedure can be slow on a normal personal computer (about 1 minute per epoch) for large datasets, so we recommend training on an HPC. "
   ]
  }
 ],
 "metadata": {
  "kernelspec": {
   "display_name": "nanoparticle-env-311",
   "language": "python",
   "name": "python3"
  },
  "language_info": {
   "codemirror_mode": {
    "name": "ipython",
    "version": 3
   },
   "file_extension": ".py",
   "mimetype": "text/x-python",
   "name": "python",
   "nbconvert_exporter": "python",
   "pygments_lexer": "ipython3",
   "version": "3.11.10"
  }
 },
 "nbformat": 4,
 "nbformat_minor": 2
}
